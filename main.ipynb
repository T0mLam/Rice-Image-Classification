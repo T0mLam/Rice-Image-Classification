{
  "cells": [
    {
      "cell_type": "markdown",
      "metadata": {
        "id": "view-in-github",
        "colab_type": "text"
      },
      "source": [
        "<a href=\"https://colab.research.google.com/github/T0mLam/Rice-Classification/blob/main/main.ipynb\" target=\"_parent\"><img src=\"https://colab.research.google.com/assets/colab-badge.svg\" alt=\"Open In Colab\"/></a>"
      ]
    },
    {
      "cell_type": "code",
      "execution_count": 1,
      "metadata": {
        "id": "cZtr_ONsT-tC"
      },
      "outputs": [],
      "source": [
        "import matplotlib.pyplot as plt\n",
        "import numpy as np\n",
        "import pandas as pd\n",
        "\n",
        "from sklearn.metrics import classification_report, confusion_matrix\n",
        "import seaborn as sns\n",
        "\n",
        "import torch\n",
        "from torch import nn\n",
        "from torch import optim\n",
        "from torch.utils.data import random_split, DataLoader, Dataset\n",
        "from torchvision import transforms\n",
        "from torchvision.datasets import ImageFolder\n",
        "\n",
        "from tqdm import tqdm"
      ]
    },
    {
      "cell_type": "code",
      "source": [
        "%pip install opendatasets"
      ],
      "metadata": {
        "collapsed": true,
        "id": "G4FEl5de0BJx"
      },
      "execution_count": null,
      "outputs": []
    },
    {
      "cell_type": "markdown",
      "metadata": {
        "id": "lCUKaQnKT-tH"
      },
      "source": [
        "Download the Rice Image Dataset from Kaggle"
      ]
    },
    {
      "cell_type": "code",
      "execution_count": null,
      "metadata": {
        "collapsed": true,
        "id": "-JfWytChT-tI"
      },
      "outputs": [],
      "source": [
        "import opendatasets as od\n",
        "\n",
        "od.download('https://www.kaggle.com/datasets/muratkokludataset/rice-image-dataset')"
      ]
    },
    {
      "cell_type": "code",
      "source": [
        "device = torch.device('cuda:0' if torch.cuda.is_available() else 'cpu')\n",
        "device"
      ],
      "metadata": {
        "colab": {
          "base_uri": "https://localhost:8080/"
        },
        "id": "112VSnT8xvMs",
        "outputId": "cf348613-54b1-4e22-e81b-fcab125a8453"
      },
      "execution_count": 4,
      "outputs": [
        {
          "output_type": "execute_result",
          "data": {
            "text/plain": [
              "device(type='cuda', index=0)"
            ]
          },
          "metadata": {},
          "execution_count": 4
        }
      ]
    },
    {
      "cell_type": "code",
      "source": [
        "class RiceImageDataset(Dataset):\n",
        "    def __init__(self, img_dir, transform):\n",
        "        super().__init__()\n",
        "        self.img_folder = ImageFolder(\n",
        "            root=img_dir,\n",
        "            transform=transform\n",
        "        )\n",
        "\n",
        "    def __getitem__(self, index):\n",
        "        return self.img_folder[index]\n",
        "\n",
        "    def __len__(self):\n",
        "        return len(self.img_folder)"
      ],
      "metadata": {
        "id": "dizHIqg5VB92"
      },
      "execution_count": 5,
      "outputs": []
    },
    {
      "cell_type": "code",
      "execution_count": 6,
      "metadata": {
        "id": "gsORNVGoT-tJ"
      },
      "outputs": [],
      "source": [
        "composed_transform = transforms.Compose([\n",
        "    transforms.Resize((64, 64)),\n",
        "    transforms.ToTensor()\n",
        "])"
      ]
    },
    {
      "cell_type": "code",
      "source": [
        "dataset = RiceImageDataset('rice-image-dataset/Rice_Image_Dataset', composed_transform)"
      ],
      "metadata": {
        "id": "TfuuD_fxWS7i"
      },
      "execution_count": 7,
      "outputs": []
    },
    {
      "cell_type": "code",
      "execution_count": 8,
      "metadata": {
        "colab": {
          "base_uri": "https://localhost:8080/"
        },
        "id": "Mc9fbq51T-tK",
        "outputId": "98f6bfed-acde-4256-f89b-2979ccc13bad"
      },
      "outputs": [
        {
          "output_type": "execute_result",
          "data": {
            "text/plain": [
              "{'Arborio': 0, 'Basmati': 1, 'Ipsala': 2, 'Jasmine': 3, 'Karacadag': 4}"
            ]
          },
          "metadata": {},
          "execution_count": 8
        }
      ],
      "source": [
        "dataset.img_folder.class_to_idx"
      ]
    },
    {
      "cell_type": "code",
      "execution_count": 9,
      "metadata": {
        "id": "quGnxuK8T-tK"
      },
      "outputs": [],
      "source": [
        "train_set, val_set, test_set = random_split(dataset, [0.8, 0.1, 0.1])"
      ]
    },
    {
      "cell_type": "code",
      "execution_count": 10,
      "metadata": {
        "colab": {
          "base_uri": "https://localhost:8080/"
        },
        "id": "4wSyo0X6T-tK",
        "outputId": "5f910371-a671-42a1-a6dc-6fefb83feb4b"
      },
      "outputs": [
        {
          "output_type": "stream",
          "name": "stdout",
          "text": [
            "The shape of each image:  torch.Size([3, 64, 64])\n",
            "The number of training samples:  60000\n",
            "The number of validation samples:  7500\n",
            "The number of testing samples:  7500\n"
          ]
        }
      ],
      "source": [
        "print('The shape of each image: ', train_set[0][0].shape)\n",
        "print('The number of training samples: ', len(train_set))\n",
        "print('The number of validation samples: ', len(val_set))\n",
        "print('The number of testing samples: ', len(test_set))"
      ]
    },
    {
      "cell_type": "code",
      "execution_count": 11,
      "metadata": {
        "id": "XW0Blbn5T-tL"
      },
      "outputs": [],
      "source": [
        "def show_image(sample):\n",
        "    rice_type = ['Arborio', 'Basmati', 'Ipsala', 'Jasmine', 'Karacadag']\n",
        "    plt.imshow(sample[0].permute(1, 2, 0))\n",
        "    plt.title(f'y = {str(sample[1])} ({rice_type[sample[1]]})')"
      ]
    },
    {
      "cell_type": "code",
      "execution_count": 12,
      "metadata": {
        "colab": {
          "base_uri": "https://localhost:8080/",
          "height": 452
        },
        "id": "nNy44GZWT-tL",
        "outputId": "3a944937-a9f5-493d-99ac-3eca90bd8251"
      },
      "outputs": [
        {
          "output_type": "display_data",
          "data": {
            "text/plain": [
              "<Figure size 640x480 with 1 Axes>"
            ],
            "image/png": "[encoded data removed]"
          },
          "metadata": {}
        }
      ],
      "source": [
        "show_image(test_set[800])"
      ]
    },
    {
      "cell_type": "code",
      "source": [
        "class RiceCNNClassifier(nn.Module):\n",
        "    def __init__(self):\n",
        "        super().__init__()\n",
        "        self.conv1 = nn.Conv2d(in_channels=3, out_channels=32, kernel_size=5, padding=2)\n",
        "        self.bn1 = nn.BatchNorm2d(num_features=32)\n",
        "        self.pool1 = nn.MaxPool2d(kernel_size=2)\n",
        "\n",
        "        self.conv2 = nn.Conv2d(in_channels=32, out_channels=64, kernel_size=5, padding=2)\n",
        "        self.bn2 = nn.BatchNorm2d(num_features=64)\n",
        "        self.pool2 = nn.MaxPool2d(kernel_size=2)\n",
        "\n",
        "        self.lin1 = nn.Linear(in_features=64*16*16, out_features=32)\n",
        "        self.bn3 = nn.BatchNorm1d(num_features=32)\n",
        "\n",
        "        self.lin2 = nn.Linear(in_features=32, out_features=5)\n",
        "\n",
        "    def forward(self, x):\n",
        "        x = self.conv1(x)\n",
        "        x = self.bn1(x)\n",
        "        x = torch.relu(x)\n",
        "        x = self.pool1(x)\n",
        "\n",
        "        x = self.conv2(x)\n",
        "        x = self.bn2(x)\n",
        "        x = torch.relu(x)\n",
        "        x = self.pool2(x)\n",
        "\n",
        "        x = x.view(x.size(0), -1)\n",
        "\n",
        "        x = self.lin1(x)\n",
        "        x = self.bn3(x)\n",
        "        x = torch.relu(x)\n",
        "\n",
        "        return x"
      ],
      "metadata": {
        "id": "riggYZgKpmT7"
      },
      "execution_count": 13,
      "outputs": []
    },
    {
      "cell_type": "code",
      "source": [
        "model = RiceCNNClassifier()\n",
        "model.to(device)"
      ],
      "metadata": {
        "colab": {
          "base_uri": "https://localhost:8080/"
        },
        "collapsed": true,
        "id": "utSKWSTyYPCB",
        "outputId": "ff2aebfc-d968-4e7b-c4d0-aa1dc8354c6a"
      },
      "execution_count": 14,
      "outputs": [
        {
          "output_type": "execute_result",
          "data": {
            "text/plain": [
              "RiceCNNClassifier(\n",
              "  (conv1): Conv2d(3, 32, kernel_size=(5, 5), stride=(1, 1), padding=(2, 2))\n",
              "  (bn1): BatchNorm2d(32, eps=1e-05, momentum=0.1, affine=True, track_running_stats=True)\n",
              "  (pool1): MaxPool2d(kernel_size=2, stride=2, padding=0, dilation=1, ceil_mode=False)\n",
              "  (conv2): Conv2d(32, 64, kernel_size=(5, 5), stride=(1, 1), padding=(2, 2))\n",
              "  (bn2): BatchNorm2d(64, eps=1e-05, momentum=0.1, affine=True, track_running_stats=True)\n",
              "  (pool2): MaxPool2d(kernel_size=2, stride=2, padding=0, dilation=1, ceil_mode=False)\n",
              "  (lin1): Linear(in_features=16384, out_features=32, bias=True)\n",
              "  (bn3): BatchNorm1d(32, eps=1e-05, momentum=0.1, affine=True, track_running_stats=True)\n",
              "  (lin2): Linear(in_features=32, out_features=5, bias=True)\n",
              ")"
            ]
          },
          "metadata": {},
          "execution_count": 14
        }
      ]
    },
    {
      "cell_type": "code",
      "execution_count": 15,
      "metadata": {
        "id": "AE1oVyOsT-tM"
      },
      "outputs": [],
      "source": [
        "LEARNING_RATE = 0.001\n",
        "EPOCHS = 5\n",
        "\n",
        "criterion = nn.CrossEntropyLoss()\n",
        "optimizer = optim.Adam(model.parameters(), lr=LEARNING_RATE)"
      ]
    },
    {
      "cell_type": "code",
      "execution_count": 16,
      "metadata": {
        "id": "ZefyYlujT-tM"
      },
      "outputs": [],
      "source": [
        "train_loader = DataLoader(dataset=train_set, batch_size=128, shuffle=True)\n",
        "val_loader = DataLoader(dataset=val_set, batch_size=128)\n",
        "test_loader = DataLoader(dataset=test_set, batch_size=128)"
      ]
    },
    {
      "cell_type": "code",
      "execution_count": 17,
      "metadata": {
        "id": "Q4PDqa3aT-tN"
      },
      "outputs": [],
      "source": [
        "def train_model(model, train_loader, val_loader, criterion, optimizer, EPOCHS):\n",
        "    train_acc = []\n",
        "    train_loss = []\n",
        "    val_acc = []\n",
        "    val_loss = []\n",
        "\n",
        "    for epoch in range(EPOCHS):\n",
        "        print(f'Epoch {epoch + 1}:')\n",
        "\n",
        "        cum_loss = correct = 0\n",
        "        model.train()\n",
        "        for x, y in tqdm(train_loader, desc='Training', colour='#FFEA00'):\n",
        "            x, y = x.to(device), y.to(device)\n",
        "            z = model(x)\n",
        "            _, y_ = torch.max(z, 1)\n",
        "            correct += (y_ == y).sum().item()\n",
        "            loss = criterion(z, y)\n",
        "            cum_loss += loss.data.item()\n",
        "            optimizer.zero_grad()\n",
        "            loss.backward()\n",
        "            optimizer.step()\n",
        "        acc = correct / len(train_set)\n",
        "        train_acc.append(acc)\n",
        "\n",
        "        loss = cum_loss / len(train_set)\n",
        "        train_loss.append(loss)\n",
        "\n",
        "        print(f'Training Loss = {loss} | Accuracy = {acc}')\n",
        "\n",
        "        cum_loss = correct = 0\n",
        "        model.eval()\n",
        "        with torch.no_grad():\n",
        "            for x, y in tqdm(val_loader, desc='Validation', colour='#93C572'):\n",
        "                x, y = x.to(device), y.to(device)\n",
        "                z = model(x)\n",
        "                _, y_ = torch.max(z, 1)\n",
        "                correct += (y_ == y).sum().item()\n",
        "                loss = criterion(z, y)\n",
        "                cum_loss += loss.data.item()\n",
        "            acc = correct / len(val_set)\n",
        "            val_acc.append(acc)\n",
        "\n",
        "            loss = cum_loss / len(val_set)\n",
        "            val_loss.append(loss)\n",
        "\n",
        "            print(f'Validation Loss = {loss} | Accuracy = {acc}', end='\\n\\n')\n",
        "\n",
        "    return train_acc, train_loss, val_acc, val_loss"
      ]
    },
    {
      "cell_type": "code",
      "source": [
        "train_acc, train_loss, val_acc, val_loss = train_model(model, train_loader, val_loader, criterion, optimizer, EPOCHS)"
      ],
      "metadata": {
        "colab": {
          "base_uri": "https://localhost:8080/"
        },
        "collapsed": true,
        "id": "qsQYTR6eZYwf",
        "outputId": "21c2c8c0-c2d9-43a3-9d20-6965fa5165c5"
      },
      "execution_count": 18,
      "outputs": [
        {
          "output_type": "stream",
          "name": "stdout",
          "text": [
            "Epoch 1:\n"
          ]
        },
        {
          "output_type": "stream",
          "name": "stderr",
          "text": [
            "Training: 100%|\u001b[38;2;255;234;0m██████████\u001b[0m| 469/469 [01:16<00:00,  6.12it/s]\n"
          ]
        },
        {
          "output_type": "stream",
          "name": "stdout",
          "text": [
            "Training Loss = 0.010666321965058645 | Accuracy = 0.9717666666666667\n"
          ]
        },
        {
          "output_type": "stream",
          "name": "stderr",
          "text": [
            "Validation: 100%|\u001b[38;2;147;197;114m██████████\u001b[0m| 59/59 [00:08<00:00,  6.68it/s]\n"
          ]
        },
        {
          "output_type": "stream",
          "name": "stdout",
          "text": [
            "Validation Loss = 0.007142333213488261 | Accuracy = 0.9905333333333334\n",
            "\n",
            "Epoch 2:\n"
          ]
        },
        {
          "output_type": "stream",
          "name": "stderr",
          "text": [
            "Training: 100%|\u001b[38;2;255;234;0m██████████\u001b[0m| 469/469 [01:14<00:00,  6.32it/s]\n"
          ]
        },
        {
          "output_type": "stream",
          "name": "stdout",
          "text": [
            "Training Loss = 0.004929319575925668 | Accuracy = 0.9925166666666667\n"
          ]
        },
        {
          "output_type": "stream",
          "name": "stderr",
          "text": [
            "Validation: 100%|\u001b[38;2;147;197;114m██████████\u001b[0m| 59/59 [00:08<00:00,  6.63it/s]\n"
          ]
        },
        {
          "output_type": "stream",
          "name": "stdout",
          "text": [
            "Validation Loss = 0.004162032345930735 | Accuracy = 0.9890666666666666\n",
            "\n",
            "Epoch 3:\n"
          ]
        },
        {
          "output_type": "stream",
          "name": "stderr",
          "text": [
            "Training: 100%|\u001b[38;2;255;234;0m██████████\u001b[0m| 469/469 [01:10<00:00,  6.61it/s]\n"
          ]
        },
        {
          "output_type": "stream",
          "name": "stdout",
          "text": [
            "Training Loss = 0.0026414083652198314 | Accuracy = 0.9937666666666667\n"
          ]
        },
        {
          "output_type": "stream",
          "name": "stderr",
          "text": [
            "Validation: 100%|\u001b[38;2;147;197;114m██████████\u001b[0m| 59/59 [00:08<00:00,  7.35it/s]\n"
          ]
        },
        {
          "output_type": "stream",
          "name": "stdout",
          "text": [
            "Validation Loss = 0.0021443933188915252 | Accuracy = 0.9952\n",
            "\n",
            "Epoch 4:\n"
          ]
        },
        {
          "output_type": "stream",
          "name": "stderr",
          "text": [
            "Training: 100%|\u001b[38;2;255;234;0m██████████\u001b[0m| 469/469 [01:10<00:00,  6.70it/s]\n"
          ]
        },
        {
          "output_type": "stream",
          "name": "stdout",
          "text": [
            "Training Loss = 0.0015948542311787605 | Accuracy = 0.9953333333333333\n"
          ]
        },
        {
          "output_type": "stream",
          "name": "stderr",
          "text": [
            "Validation: 100%|\u001b[38;2;147;197;114m██████████\u001b[0m| 59/59 [00:08<00:00,  7.08it/s]\n"
          ]
        },
        {
          "output_type": "stream",
          "name": "stdout",
          "text": [
            "Validation Loss = 0.001246940133968989 | Accuracy = 0.9948\n",
            "\n",
            "Epoch 5:\n"
          ]
        },
        {
          "output_type": "stream",
          "name": "stderr",
          "text": [
            "Training: 100%|\u001b[38;2;255;234;0m██████████\u001b[0m| 469/469 [01:09<00:00,  6.72it/s]\n"
          ]
        },
        {
          "output_type": "stream",
          "name": "stdout",
          "text": [
            "Training Loss = 0.0010534375590582688 | Accuracy = 0.99625\n"
          ]
        },
        {
          "output_type": "stream",
          "name": "stderr",
          "text": [
            "Validation: 100%|\u001b[38;2;147;197;114m██████████\u001b[0m| 59/59 [00:08<00:00,  6.76it/s]"
          ]
        },
        {
          "output_type": "stream",
          "name": "stdout",
          "text": [
            "Validation Loss = 0.0011278708070516586 | Accuracy = 0.996\n",
            "\n"
          ]
        },
        {
          "output_type": "stream",
          "name": "stderr",
          "text": [
            "\n"
          ]
        }
      ]
    },
    {
      "cell_type": "code",
      "source": [
        "fig, axes = plt.subplots(1, 2, figsize=(10, 6))\n",
        "\n",
        "\n",
        "axes[0].plot(train_acc, color='#FFEA00', label='Training Accuracy')\n",
        "axes[0].plot(val_acc, color='#93C572', label='Validation Accuracy')\n",
        "axes[0].set_xlabel('Epoch')\n",
        "axes[0].set_title('Accuracy')\n",
        "axes[0].set_ylim(0.95, 1)\n",
        "axes[0].legend()\n",
        "\n",
        "axes[1].plot(train_loss, color='#FFEA00', label='Training Loss')\n",
        "axes[1].plot(val_loss, color='#93C572', label='Validation Loss')\n",
        "axes[1].set_xlabel('Epoch')\n",
        "axes[1].set_title('Loss')\n",
        "axes[1].legend()\n",
        "\n",
        "fig.show()"
      ],
      "metadata": {
        "colab": {
          "base_uri": "https://localhost:8080/",
          "height": 564
        },
        "id": "l0BQmQL6Zbvy",
        "outputId": "701e33b7-abf9-482f-c70b-a4e2db5603ee"
      },
      "execution_count": 20,
      "outputs": [
        {
          "output_type": "display_data",
          "data": {
            "text/plain": [
              "<Figure size 1000x600 with 2 Axes>"
            ],
            "image/png": "[encoded data removed]"
          },
          "metadata": {}
        }
      ]
    },
    {
      "cell_type": "code",
      "source": [
        "def test_model(model, test_loader, criterion, optimizer):\n",
        "    true_list = []\n",
        "    pred_list = []\n",
        "    correct = 0\n",
        "    model.eval()\n",
        "\n",
        "    with torch.no_grad():\n",
        "        for x, y in tqdm(test_loader, desc='Testing', colour='#A020F0'):\n",
        "            x, y = x.to(device), y.to(device)\n",
        "            z = model(x)\n",
        "            _, y_ = torch.max(z, 1)\n",
        "            true_list.extend(y.cpu().flatten().tolist())\n",
        "            pred_list.extend(y_.cpu().flatten().tolist())\n",
        "            correct += (y_ == y).sum().item()\n",
        "\n",
        "    acc = correct / len(test_set)\n",
        "    print(f'\\nTest Accuracy = {acc}')\n",
        "    #true_list = [a.sqeeze().to_list() for a in true_list]\n",
        "    #pred_list = [a.sqeeze().to_list() for a in pred_list]\n",
        "    return true_list , pred_list"
      ],
      "metadata": {
        "id": "9ACxHijJAaPa"
      },
      "execution_count": 68,
      "outputs": []
    },
    {
      "cell_type": "code",
      "source": [
        "y, predictions = test_model(model, test_loader, criterion, optimizer)"
      ],
      "metadata": {
        "id": "hcksWoEPUTYT",
        "colab": {
          "base_uri": "https://localhost:8080/"
        },
        "outputId": "3a0faafc-735e-4cb5-c869-4310b7e26004"
      },
      "execution_count": 69,
      "outputs": [
        {
          "output_type": "stream",
          "name": "stderr",
          "text": [
            "Testing: 100%|\u001b[38;2;160;32;240m██████████\u001b[0m| 59/59 [00:08<00:00,  7.08it/s]"
          ]
        },
        {
          "output_type": "stream",
          "name": "stdout",
          "text": [
            "\n",
            "Test Accuracy = 0.9964\n"
          ]
        },
        {
          "output_type": "stream",
          "name": "stderr",
          "text": [
            "\n"
          ]
        }
      ]
    },
    {
      "cell_type": "code",
      "source": [
        "print(classification_report(y, predictions, digits=4))"
      ],
      "metadata": {
        "id": "yLvk5O-JXaFv",
        "colab": {
          "base_uri": "https://localhost:8080/"
        },
        "outputId": "84a27995-ed95-4dc7-931e-0a4200dff5b7"
      },
      "execution_count": 76,
      "outputs": [
        {
          "output_type": "stream",
          "name": "stdout",
          "text": [
            "              precision    recall  f1-score   support\n",
            "\n",
            "           0     0.9979    0.9917    0.9948      1453\n",
            "           1     0.9980    0.9948    0.9964      1529\n",
            "           2     0.9993    1.0000    0.9997      1502\n",
            "           3     0.9909    0.9967    0.9938      1528\n",
            "           4     0.9960    0.9987    0.9973      1488\n",
            "\n",
            "    accuracy                         0.9964      7500\n",
            "   macro avg     0.9964    0.9964    0.9964      7500\n",
            "weighted avg     0.9964    0.9964    0.9964      7500\n",
            "\n"
          ]
        }
      ]
    },
    {
      "cell_type": "code",
      "source": [
        "confusion_matrix_df = pd.DataFrame(\n",
        "    confusion_matrix(y, predictions),\n",
        "    columns=['Arborio', 'Basmati', 'Ipsala', 'Jasmine', 'Karacadag'],\n",
        "    index=['Arborio', 'Basmati', 'Ipsala', 'Jasmine', 'Karacadag']\n",
        ")\n",
        "sns.heatmap(confusion_matrix_df, annot=True, xticklabels=True, yticklabels=True)\n",
        "plt.show()"
      ],
      "metadata": {
        "id": "EyEZ279UZcjU",
        "colab": {
          "base_uri": "https://localhost:8080/",
          "height": 430
        },
        "outputId": "d720a30a-c1f1-4f10-fbe6-43401a0bd256"
      },
      "execution_count": 84,
      "outputs": [
        {
          "output_type": "display_data",
          "data": {
            "text/plain": [
              "<Figure size 640x480 with 2 Axes>"
            ],
            "image/png": "[encoded data removed]"
          },
          "metadata": {}
        }
      ]
    }
  ],
  "metadata": {
    "kernelspec": {
      "display_name": "Python 3",
      "name": "python3"
    },
    "language_info": {
      "codemirror_mode": {
        "name": "ipython",
        "version": 3
      },
      "file_extension": ".py",
      "mimetype": "text/x-python",
      "name": "python",
      "nbconvert_exporter": "python",
      "pygments_lexer": "ipython3",
      "version": "3.12.2"
    },
    "colab": {
      "provenance": [],
      "gpuType": "T4",
      "include_colab_link": true
    },
    "accelerator": "GPU"
  },
  "nbformat": 4,
  "nbformat_minor": 0
}