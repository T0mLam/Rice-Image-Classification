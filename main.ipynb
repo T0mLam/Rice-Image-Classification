{
  "cells": [
    {
      "cell_type": "markdown",
      "metadata": {
        "id": "view-in-github",
        "colab_type": "text"
      },
      "source": [
        "<a href=\"https://colab.research.google.com/github/T0mLam/Rice-Classification/blob/main/main.ipynb\" target=\"_parent\"><img src=\"https://colab.research.google.com/assets/colab-badge.svg\" alt=\"Open In Colab\"/></a>"
      ]
    },
    {
      "cell_type": "code",
      "execution_count": 1,
      "metadata": {
        "id": "cZtr_ONsT-tC"
      },
      "outputs": [],
      "source": [
        "import matplotlib.pyplot as plt\n",
        "import numpy as np\n",
        "import pandas as pd\n",
        "\n",
        "from sklearn.metrics import classification_report, confusion_matrix\n",
        "import seaborn as sns\n",
        "\n",
        "import torch\n",
        "from torch import nn\n",
        "from torch import optim\n",
        "from torch.utils.data import random_split, DataLoader, Dataset\n",
        "from torchvision import transforms\n",
        "from torchvision.datasets import ImageFolder\n",
        "\n",
        "from tqdm import tqdm"
      ]
    },
    {
      "cell_type": "code",
      "source": [
        "%pip install opendatasets"
      ],
      "metadata": {
        "collapsed": true,
        "id": "G4FEl5de0BJx"
      },
      "execution_count": null,
      "outputs": []
    },
    {
      "cell_type": "markdown",
      "metadata": {
        "id": "lCUKaQnKT-tH"
      },
      "source": [
        "Download the Rice Image Dataset from Kaggle"
      ]
    },
    {
      "cell_type": "code",
      "execution_count": 3,
      "metadata": {
        "colab": {
          "base_uri": "https://localhost:8080/"
        },
        "collapsed": true,
        "id": "-JfWytChT-tI",
        "outputId": "9cee4e28-0c01-40ac-ccd3-2500b9813afe"
      },
      "outputs": [
        {
          "output_type": "stream",
          "name": "stdout",
          "text": [
            "Please provide your Kaggle credentials to download this dataset. Learn more: http://bit.ly/kaggle-creds\n",
            "Your Kaggle username: tomkhlam\n",
            "Your Kaggle Key: ··········\n",
            "Dataset URL: https://www.kaggle.com/datasets/muratkokludataset/rice-image-dataset\n",
            "Downloading rice-image-dataset.zip to ./rice-image-dataset\n"
          ]
        },
        {
          "output_type": "stream",
          "name": "stderr",
          "text": [
            "100%|██████████| 219M/219M [00:07<00:00, 29.2MB/s]\n"
          ]
        },
        {
          "output_type": "stream",
          "name": "stdout",
          "text": [
            "\n"
          ]
        }
      ],
      "source": [
        "import opendatasets as od\n",
        "\n",
        "od.download('https://www.kaggle.com/datasets/muratkokludataset/rice-image-dataset')"
      ]
    },
    {
      "cell_type": "code",
      "source": [
        "device = torch.device('cuda:0' if torch.cuda.is_available() else 'cpu')\n",
        "device"
      ],
      "metadata": {
        "colab": {
          "base_uri": "https://localhost:8080/"
        },
        "id": "112VSnT8xvMs",
        "outputId": "645833f4-a57d-4928-8055-7dfcdc39d69e"
      },
      "execution_count": 4,
      "outputs": [
        {
          "output_type": "execute_result",
          "data": {
            "text/plain": [
              "device(type='cpu')"
            ]
          },
          "metadata": {},
          "execution_count": 4
        }
      ]
    },
    {
      "cell_type": "code",
      "source": [
        "class RiceImageDataset(Dataset):\n",
        "    def __init__(self, img_dir, transform):\n",
        "        super().__init__()\n",
        "        self.img_folder = ImageFolder(\n",
        "            root=img_dir,\n",
        "            transform=transform\n",
        "        )\n",
        "\n",
        "    def __getitem__(self, index):\n",
        "        return self.img_folder[index]\n",
        "\n",
        "    def __len__(self):\n",
        "        return len(self.img_folder)"
      ],
      "metadata": {
        "id": "dizHIqg5VB92"
      },
      "execution_count": 5,
      "outputs": []
    },
    {
      "cell_type": "code",
      "execution_count": 6,
      "metadata": {
        "id": "gsORNVGoT-tJ"
      },
      "outputs": [],
      "source": [
        "composed_transform = transforms.Compose([\n",
        "    transforms.Resize((64, 64)),\n",
        "    transforms.ToTensor()\n",
        "])"
      ]
    },
    {
      "cell_type": "code",
      "source": [
        "dataset = RiceImageDataset('rice-image-dataset/Rice_Image_Dataset', composed_transform)"
      ],
      "metadata": {
        "id": "TfuuD_fxWS7i"
      },
      "execution_count": 7,
      "outputs": []
    },
    {
      "cell_type": "code",
      "execution_count": 8,
      "metadata": {
        "colab": {
          "base_uri": "https://localhost:8080/"
        },
        "id": "Mc9fbq51T-tK",
        "outputId": "8f948903-2420-47d6-f8c4-21d3fc074fef"
      },
      "outputs": [
        {
          "output_type": "execute_result",
          "data": {
            "text/plain": [
              "{'Arborio': 0, 'Basmati': 1, 'Ipsala': 2, 'Jasmine': 3, 'Karacadag': 4}"
            ]
          },
          "metadata": {},
          "execution_count": 8
        }
      ],
      "source": [
        "dataset.img_folder.class_to_idx"
      ]
    },
    {
      "cell_type": "code",
      "execution_count": 9,
      "metadata": {
        "id": "quGnxuK8T-tK"
      },
      "outputs": [],
      "source": [
        "train_set, val_set, test_set = random_split(dataset, [0.8, 0.1, 0.1])"
      ]
    },
    {
      "cell_type": "code",
      "execution_count": 10,
      "metadata": {
        "colab": {
          "base_uri": "https://localhost:8080/"
        },
        "id": "4wSyo0X6T-tK",
        "outputId": "c4598d66-db5a-4db0-8dec-ba58774849ed"
      },
      "outputs": [
        {
          "output_type": "stream",
          "name": "stdout",
          "text": [
            "The shape of each image:  torch.Size([3, 64, 64])\n",
            "The number of training samples:  60000\n",
            "The number of validation samples:  7500\n",
            "The number of testing samples:  7500\n"
          ]
        }
      ],
      "source": [
        "print('The shape of each image: ', train_set[0][0].shape)\n",
        "print('The number of training samples: ', len(train_set))\n",
        "print('The number of validation samples: ', len(val_set))\n",
        "print('The number of testing samples: ', len(test_set))"
      ]
    },
    {
      "cell_type": "code",
      "execution_count": 11,
      "metadata": {
        "id": "XW0Blbn5T-tL"
      },
      "outputs": [],
      "source": [
        "def show_image(sample):\n",
        "    rice_type = ['Arborio', 'Basmati', 'Ipsala', 'Jasmine', 'Karacadag']\n",
        "    plt.imshow(sample[0].permute(1, 2, 0))\n",
        "    plt.title(f'y = {str(sample[1])} ({rice_type[sample[1]]})')"
      ]
    },
    {
      "cell_type": "code",
      "execution_count": 12,
      "metadata": {
        "colab": {
          "base_uri": "https://localhost:8080/",
          "height": 452
        },
        "id": "nNy44GZWT-tL",
        "outputId": "f8594fef-9b28-4d99-cb19-04af88eed9eb"
      },
      "outputs": [
        {
          "output_type": "display_data",
          "data": {
            "text/plain": [
              "<Figure size 640x480 with 1 Axes>"
            ],
            "image/png": "[encoded data removed]"
          },
          "metadata": {}
        }
      ],
      "source": [
        "show_image(test_set[800])"
      ]
    },
    {
      "cell_type": "code",
      "source": [
        "class RiceCNNClassifier(nn.Module):\n",
        "    def __init__(self):\n",
        "        super().__init__()\n",
        "        self.conv1 = nn.Conv2d(in_channels=3, out_channels=32, kernel_size=5, padding=2)\n",
        "        self.bn1 = nn.BatchNorm2d(num_features=32)\n",
        "        self.pool1 = nn.MaxPool2d(kernel_size=2)\n",
        "\n",
        "        self.conv2 = nn.Conv2d(in_channels=32, out_channels=64, kernel_size=5, padding=2)\n",
        "        self.bn2 = nn.BatchNorm2d(num_features=64)\n",
        "        self.pool2 = nn.MaxPool2d(kernel_size=2)\n",
        "\n",
        "        self.lin1 = nn.Linear(in_features=64*16*16, out_features=32)\n",
        "        self.bn3 = nn.BatchNorm1d(num_features=32)\n",
        "\n",
        "        self.lin2 = nn.Linear(in_features=32, out_features=5)\n",
        "\n",
        "    def forward(self, x):\n",
        "        x = self.conv1(x)\n",
        "        x = self.bn1(x)\n",
        "        x = torch.relu(x)\n",
        "        x = self.pool1(x)\n",
        "\n",
        "        x = self.conv2(x)\n",
        "        x = self.bn2(x)\n",
        "        x = torch.relu(x)\n",
        "        x = self.pool2(x)\n",
        "\n",
        "        x = x.view(x.size(0), -1)\n",
        "\n",
        "        x = self.lin1(x)\n",
        "        x = self.bn3(x)\n",
        "        x = torch.relu(x)\n",
        "\n",
        "        return x"
      ],
      "metadata": {
        "id": "riggYZgKpmT7"
      },
      "execution_count": 13,
      "outputs": []
    },
    {
      "cell_type": "code",
      "source": [
        "model = RiceCNNClassifier()\n",
        "model.to(device)"
      ],
      "metadata": {
        "colab": {
          "base_uri": "https://localhost:8080/"
        },
        "collapsed": true,
        "id": "utSKWSTyYPCB",
        "outputId": "e47647fc-ea24-4b5f-a99f-7daeba406075"
      },
      "execution_count": 14,
      "outputs": [
        {
          "output_type": "execute_result",
          "data": {
            "text/plain": [
              "RiceCNNClassifier(\n",
              "  (conv1): Conv2d(3, 32, kernel_size=(5, 5), stride=(1, 1), padding=(2, 2))\n",
              "  (bn1): BatchNorm2d(32, eps=1e-05, momentum=0.1, affine=True, track_running_stats=True)\n",
              "  (pool1): MaxPool2d(kernel_size=2, stride=2, padding=0, dilation=1, ceil_mode=False)\n",
              "  (conv2): Conv2d(32, 64, kernel_size=(5, 5), stride=(1, 1), padding=(2, 2))\n",
              "  (bn2): BatchNorm2d(64, eps=1e-05, momentum=0.1, affine=True, track_running_stats=True)\n",
              "  (pool2): MaxPool2d(kernel_size=2, stride=2, padding=0, dilation=1, ceil_mode=False)\n",
              "  (lin1): Linear(in_features=16384, out_features=32, bias=True)\n",
              "  (bn3): BatchNorm1d(32, eps=1e-05, momentum=0.1, affine=True, track_running_stats=True)\n",
              "  (lin2): Linear(in_features=32, out_features=5, bias=True)\n",
              ")"
            ]
          },
          "metadata": {},
          "execution_count": 14
        }
      ]
    },
    {
      "cell_type": "code",
      "execution_count": 15,
      "metadata": {
        "id": "AE1oVyOsT-tM"
      },
      "outputs": [],
      "source": [
        "LEARNING_RATE = 0.001\n",
        "EPOCHS = 5\n",
        "\n",
        "criterion = nn.CrossEntropyLoss()\n",
        "optimizer = optim.Adam(model.parameters(), lr=LEARNING_RATE)"
      ]
    },
    {
      "cell_type": "code",
      "execution_count": 16,
      "metadata": {
        "id": "ZefyYlujT-tM"
      },
      "outputs": [],
      "source": [
        "train_loader = DataLoader(dataset=train_set, batch_size=128, shuffle=True)\n",
        "val_loader = DataLoader(dataset=val_set, batch_size=128)\n",
        "test_loader = DataLoader(dataset=test_set, batch_size=128)"
      ]
    },
    {
      "cell_type": "code",
      "execution_count": 17,
      "metadata": {
        "id": "Q4PDqa3aT-tN"
      },
      "outputs": [],
      "source": [
        "def train_model(model, train_loader, val_loader, criterion, optimizer, EPOCHS):\n",
        "    train_acc = []\n",
        "    train_loss = []\n",
        "    val_acc = []\n",
        "    val_loss = []\n",
        "\n",
        "    for epoch in range(EPOCHS):\n",
        "        print(f'Epoch {epoch + 1}:')\n",
        "\n",
        "        cum_loss = correct = 0\n",
        "        model.train()\n",
        "        for x, y in tqdm(train_loader, desc='Training', colour='#FFEA00'):\n",
        "            x, y = x.to(device), y.to(device)\n",
        "            z = model(x)\n",
        "            _, y_ = torch.max(z, 1)\n",
        "            correct += (y_ == y).sum().item()\n",
        "            loss = criterion(z, y)\n",
        "            cum_loss += loss.data.item()\n",
        "            optimizer.zero_grad()\n",
        "            loss.backward()\n",
        "            optimizer.step()\n",
        "        acc = correct / len(train_set)\n",
        "        train_acc.append(acc)\n",
        "\n",
        "        loss = cum_loss / len(train_set)\n",
        "        train_loss.append(loss)\n",
        "\n",
        "        print(f'Training Loss = {loss} | Accuracy = {acc}')\n",
        "\n",
        "        cum_loss = correct = 0\n",
        "        model.eval()\n",
        "        with torch.no_grad():\n",
        "            for x, y in tqdm(val_loader, desc='Validation', colour='#93C572'):\n",
        "                x, y = x.to(device), y.to(device)\n",
        "                z = model(x)\n",
        "                _, y_ = torch.max(z, 1)\n",
        "                correct += (y_ == y).sum().item()\n",
        "                loss = criterion(z, y)\n",
        "                cum_loss += loss.data.item()\n",
        "            acc = correct / len(val_set)\n",
        "            val_acc.append(acc)\n",
        "\n",
        "            loss = cum_loss / len(val_set)\n",
        "            val_loss.append(loss)\n",
        "\n",
        "            print(f'Validation Loss = {loss} | Accuracy = {acc}', end='\\n\\n')\n",
        "\n",
        "    return train_acc, train_loss, val_acc, val_loss"
      ]
    },
    {
      "cell_type": "code",
      "source": [
        "train_acc, train_loss, val_acc, val_loss = train_model(model, train_loader, val_loader, criterion, optimizer, EPOCHS)"
      ],
      "metadata": {
        "collapsed": true,
        "id": "qsQYTR6eZYwf"
      },
      "execution_count": null,
      "outputs": []
    },
    {
      "cell_type": "code",
      "source": [
        "fig, axes = plt.subplots(1, 2, figsize=(10, 6))\n",
        "\n",
        "axes[0].plot(train_acc, color='#FFEA00', label='Training Accuracy')\n",
        "axes[0].plot(val_acc, color='#93C572', label='Validation Accuracy')\n",
        "axes[0].set_xlabel('Epoch')\n",
        "axes[0].set_title('Accuracy')\n",
        "axes[0].set_ylim(0.9, 1)\n",
        "axes[0].legend()\n",
        "\n",
        "axes[1].plot(train_loss, color='#FFEA00', label='Training Loss')\n",
        "axes[1].plot(val_loss, color='#93C572', label='Validation Loss')\n",
        "axes[1].set_xlabel('Epoch')\n",
        "axes[1].set_title('Loss')\n",
        "axes[1].legend()\n",
        "\n",
        "fig.show()"
      ],
      "metadata": {
        "colab": {
          "base_uri": "https://localhost:8080/",
          "height": 564
        },
        "id": "l0BQmQL6Zbvy",
        "outputId": "17fb7d25-e505-490f-e989-f130aeb2e6a1"
      },
      "execution_count": null,
      "outputs": [
        {
          "output_type": "display_data",
          "data": {
            "text/plain": [
              "<Figure size 800x600 with 2 Axes>"
            ],
            "image/png": "[encoded data removed]"
          },
          "metadata": {}
        }
      ]
    },
    {
      "cell_type": "code",
      "source": [
        "def test_model(model, test_loader, criterion, optimizer):\n",
        "    true_list = []\n",
        "    pred_list = []\n",
        "    model.eval()\n",
        "\n",
        "    with torch.no_grad():\n",
        "        for x, y in tqdm(test_loader, desc='Testing', color='#A020F0'):\n",
        "            x, y = x.to(device), y.to(device)\n",
        "            z = model(x)\n",
        "            _, y_ = torch.max(z, 1)\n",
        "            true_list.append(y.numpy())\n",
        "            pred_list.append(y_.cpu().numpy())\n",
        "            correct += (y_ == y).sum().item()\n",
        "\n",
        "    acc = correct / len(test_set)\n",
        "    print(f'Test Accuracy = {acc}')\n",
        "    true_list = [a.to_list() for a in true_list]\n",
        "    pred_list = [a.to_list() for a in pred_list]\n",
        "    return true_list , pred_list"
      ],
      "metadata": {
        "id": "9ACxHijJAaPa"
      },
      "execution_count": null,
      "outputs": []
    },
    {
      "cell_type": "code",
      "source": [
        "y, predictions = test_model(model, test_loader, criterion, optimizer)"
      ],
      "metadata": {
        "id": "hcksWoEPUTYT"
      },
      "execution_count": null,
      "outputs": []
    },
    {
      "cell_type": "code",
      "source": [
        "classification_report(y, predictions)"
      ],
      "metadata": {
        "id": "yLvk5O-JXaFv"
      },
      "execution_count": null,
      "outputs": []
    },
    {
      "cell_type": "code",
      "source": [
        "confusion_matrix_df = pd.Dataframe(confusion_matrix(y, predictions))\n",
        "sns.heatmap(confusion_matrix_df, annot=True)"
      ],
      "metadata": {
        "id": "EyEZ279UZcjU"
      },
      "execution_count": null,
      "outputs": []
    }
  ],
  "metadata": {
    "kernelspec": {
      "display_name": "Python 3",
      "name": "python3"
    },
    "language_info": {
      "codemirror_mode": {
        "name": "ipython",
        "version": 3
      },
      "file_extension": ".py",
      "mimetype": "text/x-python",
      "name": "python",
      "nbconvert_exporter": "python",
      "pygments_lexer": "ipython3",
      "version": "3.12.2"
    },
    "colab": {
      "provenance": [],
      "gpuType": "T4",
      "include_colab_link": true
    },
    "accelerator": "GPU"
  },
  "nbformat": 4,
  "nbformat_minor": 0
}